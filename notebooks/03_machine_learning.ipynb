{
 "cells": [
  {
   "cell_type": "markdown",
   "metadata": {},
   "source": [
    "# Imports"
   ]
  },
  {
   "cell_type": "code",
   "execution_count": 1,
   "metadata": {},
   "outputs": [],
   "source": [
    "import pickle\n",
    "import numpy as np\n",
    "import pandas as pd\n",
    "\n",
    "from sklearn.preprocessing import LabelEncoder, OneHotEncoder\n",
    "from sklearn.model_selection import train_test_split\n",
    "from sklearn.metrics import mean_absolute_error\n",
    "from sklearn.linear_model import LinearRegression"
   ]
  },
  {
   "cell_type": "markdown",
   "metadata": {},
   "source": [
    "# Dataset"
   ]
  },
  {
   "cell_type": "code",
   "execution_count": 2,
   "metadata": {},
   "outputs": [],
   "source": [
    "df = pd.read_csv(\"../data/full_df.csv\")"
   ]
  },
  {
   "cell_type": "code",
   "execution_count": 3,
   "metadata": {},
   "outputs": [
    {
     "data": {
      "text/html": [
       "<div>\n",
       "<style scoped>\n",
       "    .dataframe tbody tr th:only-of-type {\n",
       "        vertical-align: middle;\n",
       "    }\n",
       "\n",
       "    .dataframe tbody tr th {\n",
       "        vertical-align: top;\n",
       "    }\n",
       "\n",
       "    .dataframe thead th {\n",
       "        text-align: right;\n",
       "    }\n",
       "</style>\n",
       "<table border=\"1\" class=\"dataframe\">\n",
       "  <thead>\n",
       "    <tr style=\"text-align: right;\">\n",
       "      <th></th>\n",
       "      <th>title</th>\n",
       "      <th>street</th>\n",
       "      <th>city</th>\n",
       "      <th>country_code</th>\n",
       "      <th>address_text</th>\n",
       "      <th>marker_icon</th>\n",
       "      <th>workplace_type</th>\n",
       "      <th>company_name</th>\n",
       "      <th>company_url</th>\n",
       "      <th>company_size</th>\n",
       "      <th>...</th>\n",
       "      <th>remote</th>\n",
       "      <th>contract_type</th>\n",
       "      <th>salary_min</th>\n",
       "      <th>salary_max</th>\n",
       "      <th>currency</th>\n",
       "      <th>num_technology</th>\n",
       "      <th>technology</th>\n",
       "      <th>levels</th>\n",
       "      <th>salary_mean</th>\n",
       "      <th>company_size_bin</th>\n",
       "    </tr>\n",
       "  </thead>\n",
       "  <tbody>\n",
       "    <tr>\n",
       "      <th>0</th>\n",
       "      <td>Mid-level Full Stack PHP Developer</td>\n",
       "      <td>pl. Trzech Krzyży</td>\n",
       "      <td>Warszawa</td>\n",
       "      <td>PL</td>\n",
       "      <td>pl. Trzech Krzyży, Warszawa</td>\n",
       "      <td>php</td>\n",
       "      <td>remote</td>\n",
       "      <td>ZEME</td>\n",
       "      <td>http://www.zeme.com.pl</td>\n",
       "      <td>16</td>\n",
       "      <td>...</td>\n",
       "      <td>True</td>\n",
       "      <td>b2b</td>\n",
       "      <td>6000.0</td>\n",
       "      <td>10000.0</td>\n",
       "      <td>pln</td>\n",
       "      <td>3</td>\n",
       "      <td>['Bootstrap 4', 'jQuery', 'PHP 7.x']</td>\n",
       "      <td>[4, 4, 4]</td>\n",
       "      <td>8000.0</td>\n",
       "      <td>small</td>\n",
       "    </tr>\n",
       "    <tr>\n",
       "      <th>1</th>\n",
       "      <td>Python Team Developer</td>\n",
       "      <td>Sienkiewicza 82</td>\n",
       "      <td>Białystok</td>\n",
       "      <td>PL</td>\n",
       "      <td>Sienkiewicza 82, Białystok</td>\n",
       "      <td>python</td>\n",
       "      <td>remote</td>\n",
       "      <td>Polcode</td>\n",
       "      <td>http://www.polcode.com</td>\n",
       "      <td>130</td>\n",
       "      <td>...</td>\n",
       "      <td>True</td>\n",
       "      <td>b2b</td>\n",
       "      <td>9000.0</td>\n",
       "      <td>16000.0</td>\n",
       "      <td>pln</td>\n",
       "      <td>3</td>\n",
       "      <td>['Django', 'English', 'Python']</td>\n",
       "      <td>[3, 4, 5]</td>\n",
       "      <td>12500.0</td>\n",
       "      <td>medium</td>\n",
       "    </tr>\n",
       "    <tr>\n",
       "      <th>2</th>\n",
       "      <td>React Developer</td>\n",
       "      <td>Starowiślna 13</td>\n",
       "      <td>Kraków</td>\n",
       "      <td>PL</td>\n",
       "      <td>Starowiślna 13, Kraków</td>\n",
       "      <td>javascript</td>\n",
       "      <td>remote</td>\n",
       "      <td>Polcode</td>\n",
       "      <td>http://www.polcode.com</td>\n",
       "      <td>130</td>\n",
       "      <td>...</td>\n",
       "      <td>True</td>\n",
       "      <td>b2b</td>\n",
       "      <td>7000.0</td>\n",
       "      <td>14000.0</td>\n",
       "      <td>pln</td>\n",
       "      <td>3</td>\n",
       "      <td>['Redux / Mobx', 'JavaScript (OOP/ES6)', 'Reac...</td>\n",
       "      <td>[3, 4, 4]</td>\n",
       "      <td>10500.0</td>\n",
       "      <td>medium</td>\n",
       "    </tr>\n",
       "    <tr>\n",
       "      <th>3</th>\n",
       "      <td>Laravel Full Stack Developer</td>\n",
       "      <td>Starowiślna 13</td>\n",
       "      <td>Kraków</td>\n",
       "      <td>PL</td>\n",
       "      <td>Starowiślna 13, Kraków</td>\n",
       "      <td>php</td>\n",
       "      <td>remote</td>\n",
       "      <td>Polcode</td>\n",
       "      <td>http://www.polcode.com</td>\n",
       "      <td>130</td>\n",
       "      <td>...</td>\n",
       "      <td>True</td>\n",
       "      <td>b2b</td>\n",
       "      <td>7000.0</td>\n",
       "      <td>14000.0</td>\n",
       "      <td>pln</td>\n",
       "      <td>3</td>\n",
       "      <td>['Laravel', 'English', 'CSS / HTML']</td>\n",
       "      <td>[4, 4, 4]</td>\n",
       "      <td>10500.0</td>\n",
       "      <td>medium</td>\n",
       "    </tr>\n",
       "    <tr>\n",
       "      <th>4</th>\n",
       "      <td>Magento Developer</td>\n",
       "      <td>Starowiślna 13</td>\n",
       "      <td>Kraków</td>\n",
       "      <td>PL</td>\n",
       "      <td>Starowiślna 13, Kraków</td>\n",
       "      <td>php</td>\n",
       "      <td>office</td>\n",
       "      <td>Polcode</td>\n",
       "      <td>http://www.polcode.com</td>\n",
       "      <td>130</td>\n",
       "      <td>...</td>\n",
       "      <td>False</td>\n",
       "      <td>b2b</td>\n",
       "      <td>13000.0</td>\n",
       "      <td>17000.0</td>\n",
       "      <td>pln</td>\n",
       "      <td>3</td>\n",
       "      <td>['HTML5 / CSS3', 'English', 'Magento']</td>\n",
       "      <td>[3, 4, 4]</td>\n",
       "      <td>15000.0</td>\n",
       "      <td>medium</td>\n",
       "    </tr>\n",
       "  </tbody>\n",
       "</table>\n",
       "<p>5 rows × 29 columns</p>\n",
       "</div>"
      ],
      "text/plain": [
       "                                title             street       city  \\\n",
       "0  Mid-level Full Stack PHP Developer  pl. Trzech Krzyży   Warszawa   \n",
       "1               Python Team Developer    Sienkiewicza 82  Białystok   \n",
       "2                     React Developer     Starowiślna 13     Kraków   \n",
       "3        Laravel Full Stack Developer     Starowiślna 13     Kraków   \n",
       "4                   Magento Developer     Starowiślna 13     Kraków   \n",
       "\n",
       "  country_code                 address_text marker_icon workplace_type  \\\n",
       "0           PL  pl. Trzech Krzyży, Warszawa         php         remote   \n",
       "1           PL   Sienkiewicza 82, Białystok      python         remote   \n",
       "2           PL       Starowiślna 13, Kraków  javascript         remote   \n",
       "3           PL       Starowiślna 13, Kraków         php         remote   \n",
       "4           PL       Starowiślna 13, Kraków         php         office   \n",
       "\n",
       "  company_name             company_url  company_size  ... remote  \\\n",
       "0         ZEME  http://www.zeme.com.pl            16  ...   True   \n",
       "1      Polcode  http://www.polcode.com           130  ...   True   \n",
       "2      Polcode  http://www.polcode.com           130  ...   True   \n",
       "3      Polcode  http://www.polcode.com           130  ...   True   \n",
       "4      Polcode  http://www.polcode.com           130  ...  False   \n",
       "\n",
       "   contract_type  salary_min salary_max  currency num_technology  \\\n",
       "0            b2b      6000.0    10000.0       pln              3   \n",
       "1            b2b      9000.0    16000.0       pln              3   \n",
       "2            b2b      7000.0    14000.0       pln              3   \n",
       "3            b2b      7000.0    14000.0       pln              3   \n",
       "4            b2b     13000.0    17000.0       pln              3   \n",
       "\n",
       "                                          technology     levels salary_mean  \\\n",
       "0               ['Bootstrap 4', 'jQuery', 'PHP 7.x']  [4, 4, 4]      8000.0   \n",
       "1                    ['Django', 'English', 'Python']  [3, 4, 5]     12500.0   \n",
       "2  ['Redux / Mobx', 'JavaScript (OOP/ES6)', 'Reac...  [3, 4, 4]     10500.0   \n",
       "3               ['Laravel', 'English', 'CSS / HTML']  [4, 4, 4]     10500.0   \n",
       "4             ['HTML5 / CSS3', 'English', 'Magento']  [3, 4, 4]     15000.0   \n",
       "\n",
       "   company_size_bin  \n",
       "0             small  \n",
       "1            medium  \n",
       "2            medium  \n",
       "3            medium  \n",
       "4            medium  \n",
       "\n",
       "[5 rows x 29 columns]"
      ]
     },
     "execution_count": 3,
     "metadata": {},
     "output_type": "execute_result"
    }
   ],
   "source": [
    "df.head()"
   ]
  },
  {
   "cell_type": "code",
   "execution_count": 4,
   "metadata": {},
   "outputs": [
    {
     "name": "stdout",
     "output_type": "stream",
     "text": [
      "<class 'pandas.core.frame.DataFrame'>\n",
      "RangeIndex: 4603 entries, 0 to 4602\n",
      "Data columns (total 29 columns):\n",
      " #   Column            Non-Null Count  Dtype  \n",
      "---  ------            --------------  -----  \n",
      " 0   title             4603 non-null   object \n",
      " 1   street            4597 non-null   object \n",
      " 2   city              4603 non-null   object \n",
      " 3   country_code      4603 non-null   object \n",
      " 4   address_text      4603 non-null   object \n",
      " 5   marker_icon       4603 non-null   object \n",
      " 6   workplace_type    4603 non-null   object \n",
      " 7   company_name      4603 non-null   object \n",
      " 8   company_url       4603 non-null   object \n",
      " 9   company_size      4603 non-null   int64  \n",
      " 10  experience_level  4603 non-null   object \n",
      " 11  latitude          4603 non-null   float64\n",
      " 12  longitude         4603 non-null   float64\n",
      " 13  published_at      4603 non-null   object \n",
      " 14  remote_interview  4603 non-null   bool   \n",
      " 15  id                4603 non-null   object \n",
      " 16  employment_types  4603 non-null   object \n",
      " 17  company_logo_url  4603 non-null   object \n",
      " 18  skills            4603 non-null   object \n",
      " 19  remote            4603 non-null   bool   \n",
      " 20  contract_type     4603 non-null   object \n",
      " 21  salary_min        3610 non-null   float64\n",
      " 22  salary_max        3610 non-null   float64\n",
      " 23  currency          3610 non-null   object \n",
      " 24  num_technology    4603 non-null   int64  \n",
      " 25  technology        4603 non-null   object \n",
      " 26  levels            4603 non-null   object \n",
      " 27  salary_mean       3610 non-null   float64\n",
      " 28  company_size_bin  4603 non-null   object \n",
      "dtypes: bool(2), float64(5), int64(2), object(20)\n",
      "memory usage: 980.1+ KB\n"
     ]
    }
   ],
   "source": [
    "df.info()"
   ]
  },
  {
   "cell_type": "code",
   "execution_count": 5,
   "metadata": {},
   "outputs": [],
   "source": [
    "to_drop = [\n",
    "    \"title\",\n",
    "    \"street\",\n",
    "    \"address_text\",\n",
    "    \"company_name\",\n",
    "    \"company_url\",\n",
    "    \"company_size\",\n",
    "    \"latitude\",\n",
    "    \"longitude\",\n",
    "    \"published_at\",\n",
    "    \"id\",\n",
    "    \"employment_types\",\n",
    "    \"company_logo_url\",\n",
    "    \"skills\",\n",
    "    \"salary_min\",\n",
    "    \"salary_max\",\n",
    "    \"currency\",\n",
    "    \"num_technology\",\n",
    "    \"technology\",\n",
    "    \"levels\",\n",
    "    \"remote\"\n",
    "]"
   ]
  },
  {
   "cell_type": "code",
   "execution_count": 6,
   "metadata": {},
   "outputs": [
    {
     "name": "stdout",
     "output_type": "stream",
     "text": [
      "Before:  4603\n",
      "After:  3610\n"
     ]
    }
   ],
   "source": [
    "print(\"Before: \", len(df))\n",
    "df = df.drop(to_drop, axis=1)\n",
    "df = df.dropna()\n",
    "print(\"After: \", len(df))"
   ]
  },
  {
   "cell_type": "code",
   "execution_count": 7,
   "metadata": {},
   "outputs": [],
   "source": [
    "df.to_csv(\"../data/production.csv\", index=False)"
   ]
  },
  {
   "cell_type": "markdown",
   "metadata": {},
   "source": [
    "# Utils"
   ]
  },
  {
   "cell_type": "code",
   "execution_count": 8,
   "metadata": {},
   "outputs": [],
   "source": [
    "def save_model(name, model):\n",
    "    with open(f\"../app/models/{name}\", \"wb\") as file:\n",
    "        pickle.dump(model, file)"
   ]
  },
  {
   "cell_type": "markdown",
   "metadata": {},
   "source": [
    "# Categorical data"
   ]
  },
  {
   "cell_type": "code",
   "execution_count": 9,
   "metadata": {},
   "outputs": [],
   "source": [
    "from sklearn.preprocessing import LabelEncoder, OneHotEncoder"
   ]
  },
  {
   "cell_type": "markdown",
   "metadata": {},
   "source": [
    "## Label Encoder"
   ]
  },
  {
   "cell_type": "code",
   "execution_count": 10,
   "metadata": {},
   "outputs": [
    {
     "data": {
      "text/html": [
       "<div>\n",
       "<style scoped>\n",
       "    .dataframe tbody tr th:only-of-type {\n",
       "        vertical-align: middle;\n",
       "    }\n",
       "\n",
       "    .dataframe tbody tr th {\n",
       "        vertical-align: top;\n",
       "    }\n",
       "\n",
       "    .dataframe thead th {\n",
       "        text-align: right;\n",
       "    }\n",
       "</style>\n",
       "<table border=\"1\" class=\"dataframe\">\n",
       "  <thead>\n",
       "    <tr style=\"text-align: right;\">\n",
       "      <th></th>\n",
       "      <th>city</th>\n",
       "      <th>country_code</th>\n",
       "      <th>marker_icon</th>\n",
       "      <th>workplace_type</th>\n",
       "      <th>experience_level</th>\n",
       "      <th>remote_interview</th>\n",
       "      <th>contract_type</th>\n",
       "      <th>salary_mean</th>\n",
       "      <th>company_size_bin</th>\n",
       "    </tr>\n",
       "  </thead>\n",
       "  <tbody>\n",
       "    <tr>\n",
       "      <th>0</th>\n",
       "      <td>Warszawa</td>\n",
       "      <td>0</td>\n",
       "      <td>php</td>\n",
       "      <td>2</td>\n",
       "      <td>mid</td>\n",
       "      <td>True</td>\n",
       "      <td>0</td>\n",
       "      <td>8000.0</td>\n",
       "      <td>3</td>\n",
       "    </tr>\n",
       "    <tr>\n",
       "      <th>1</th>\n",
       "      <td>Białystok</td>\n",
       "      <td>0</td>\n",
       "      <td>python</td>\n",
       "      <td>2</td>\n",
       "      <td>mid</td>\n",
       "      <td>True</td>\n",
       "      <td>0</td>\n",
       "      <td>12500.0</td>\n",
       "      <td>1</td>\n",
       "    </tr>\n",
       "    <tr>\n",
       "      <th>2</th>\n",
       "      <td>Kraków</td>\n",
       "      <td>0</td>\n",
       "      <td>javascript</td>\n",
       "      <td>2</td>\n",
       "      <td>mid</td>\n",
       "      <td>True</td>\n",
       "      <td>0</td>\n",
       "      <td>10500.0</td>\n",
       "      <td>1</td>\n",
       "    </tr>\n",
       "    <tr>\n",
       "      <th>3</th>\n",
       "      <td>Kraków</td>\n",
       "      <td>0</td>\n",
       "      <td>php</td>\n",
       "      <td>2</td>\n",
       "      <td>mid</td>\n",
       "      <td>True</td>\n",
       "      <td>0</td>\n",
       "      <td>10500.0</td>\n",
       "      <td>1</td>\n",
       "    </tr>\n",
       "    <tr>\n",
       "      <th>4</th>\n",
       "      <td>Kraków</td>\n",
       "      <td>0</td>\n",
       "      <td>php</td>\n",
       "      <td>0</td>\n",
       "      <td>mid</td>\n",
       "      <td>True</td>\n",
       "      <td>0</td>\n",
       "      <td>15000.0</td>\n",
       "      <td>1</td>\n",
       "    </tr>\n",
       "  </tbody>\n",
       "</table>\n",
       "</div>"
      ],
      "text/plain": [
       "        city  country_code marker_icon  workplace_type experience_level  \\\n",
       "0   Warszawa             0         php               2              mid   \n",
       "1  Białystok             0      python               2              mid   \n",
       "2     Kraków             0  javascript               2              mid   \n",
       "3     Kraków             0         php               2              mid   \n",
       "4     Kraków             0         php               0              mid   \n",
       "\n",
       "   remote_interview  contract_type  salary_mean  company_size_bin  \n",
       "0              True              0       8000.0                 3  \n",
       "1              True              0      12500.0                 1  \n",
       "2              True              0      10500.0                 1  \n",
       "3              True              0      10500.0                 1  \n",
       "4              True              0      15000.0                 1  "
      ]
     },
     "execution_count": 10,
     "metadata": {},
     "output_type": "execute_result"
    }
   ],
   "source": [
    "cols = [\"workplace_type\", \"country_code\", \"contract_type\", \"company_size_bin\"]\n",
    "df[cols] = df[cols].apply(LabelEncoder().fit_transform)\n",
    "df.head()"
   ]
  },
  {
   "cell_type": "markdown",
   "metadata": {},
   "source": [
    "## GetDummies"
   ]
  },
  {
   "cell_type": "code",
   "execution_count": 11,
   "metadata": {},
   "outputs": [],
   "source": [
    "features_bool = df.select_dtypes(include=\"bool\").columns\n",
    "df = pd.get_dummies(df, columns=features_bool, drop_first=True)\n",
    "\n",
    "features_object = df.select_dtypes(include=\"object\").columns\n",
    "df = pd.get_dummies(df, columns=features_object)"
   ]
  },
  {
   "cell_type": "code",
   "execution_count": 12,
   "metadata": {},
   "outputs": [
    {
     "data": {
      "text/html": [
       "<div>\n",
       "<style scoped>\n",
       "    .dataframe tbody tr th:only-of-type {\n",
       "        vertical-align: middle;\n",
       "    }\n",
       "\n",
       "    .dataframe tbody tr th {\n",
       "        vertical-align: top;\n",
       "    }\n",
       "\n",
       "    .dataframe thead th {\n",
       "        text-align: right;\n",
       "    }\n",
       "</style>\n",
       "<table border=\"1\" class=\"dataframe\">\n",
       "  <thead>\n",
       "    <tr style=\"text-align: right;\">\n",
       "      <th></th>\n",
       "      <th>country_code</th>\n",
       "      <th>workplace_type</th>\n",
       "      <th>contract_type</th>\n",
       "      <th>salary_mean</th>\n",
       "      <th>company_size_bin</th>\n",
       "      <th>remote_interview_True</th>\n",
       "      <th>city_Białystok</th>\n",
       "      <th>city_Bielsko-Biała</th>\n",
       "      <th>city_Bydgoszcz</th>\n",
       "      <th>city_Chorzów</th>\n",
       "      <th>...</th>\n",
       "      <th>marker_icon_python</th>\n",
       "      <th>marker_icon_ruby</th>\n",
       "      <th>marker_icon_scala</th>\n",
       "      <th>marker_icon_security</th>\n",
       "      <th>marker_icon_support</th>\n",
       "      <th>marker_icon_testing</th>\n",
       "      <th>marker_icon_ux</th>\n",
       "      <th>experience_level_junior</th>\n",
       "      <th>experience_level_mid</th>\n",
       "      <th>experience_level_senior</th>\n",
       "    </tr>\n",
       "  </thead>\n",
       "  <tbody>\n",
       "    <tr>\n",
       "      <th>0</th>\n",
       "      <td>0</td>\n",
       "      <td>2</td>\n",
       "      <td>0</td>\n",
       "      <td>8000.0</td>\n",
       "      <td>3</td>\n",
       "      <td>1</td>\n",
       "      <td>0</td>\n",
       "      <td>0</td>\n",
       "      <td>0</td>\n",
       "      <td>0</td>\n",
       "      <td>...</td>\n",
       "      <td>0</td>\n",
       "      <td>0</td>\n",
       "      <td>0</td>\n",
       "      <td>0</td>\n",
       "      <td>0</td>\n",
       "      <td>0</td>\n",
       "      <td>0</td>\n",
       "      <td>0</td>\n",
       "      <td>1</td>\n",
       "      <td>0</td>\n",
       "    </tr>\n",
       "    <tr>\n",
       "      <th>1</th>\n",
       "      <td>0</td>\n",
       "      <td>2</td>\n",
       "      <td>0</td>\n",
       "      <td>12500.0</td>\n",
       "      <td>1</td>\n",
       "      <td>1</td>\n",
       "      <td>1</td>\n",
       "      <td>0</td>\n",
       "      <td>0</td>\n",
       "      <td>0</td>\n",
       "      <td>...</td>\n",
       "      <td>1</td>\n",
       "      <td>0</td>\n",
       "      <td>0</td>\n",
       "      <td>0</td>\n",
       "      <td>0</td>\n",
       "      <td>0</td>\n",
       "      <td>0</td>\n",
       "      <td>0</td>\n",
       "      <td>1</td>\n",
       "      <td>0</td>\n",
       "    </tr>\n",
       "    <tr>\n",
       "      <th>2</th>\n",
       "      <td>0</td>\n",
       "      <td>2</td>\n",
       "      <td>0</td>\n",
       "      <td>10500.0</td>\n",
       "      <td>1</td>\n",
       "      <td>1</td>\n",
       "      <td>0</td>\n",
       "      <td>0</td>\n",
       "      <td>0</td>\n",
       "      <td>0</td>\n",
       "      <td>...</td>\n",
       "      <td>0</td>\n",
       "      <td>0</td>\n",
       "      <td>0</td>\n",
       "      <td>0</td>\n",
       "      <td>0</td>\n",
       "      <td>0</td>\n",
       "      <td>0</td>\n",
       "      <td>0</td>\n",
       "      <td>1</td>\n",
       "      <td>0</td>\n",
       "    </tr>\n",
       "    <tr>\n",
       "      <th>3</th>\n",
       "      <td>0</td>\n",
       "      <td>2</td>\n",
       "      <td>0</td>\n",
       "      <td>10500.0</td>\n",
       "      <td>1</td>\n",
       "      <td>1</td>\n",
       "      <td>0</td>\n",
       "      <td>0</td>\n",
       "      <td>0</td>\n",
       "      <td>0</td>\n",
       "      <td>...</td>\n",
       "      <td>0</td>\n",
       "      <td>0</td>\n",
       "      <td>0</td>\n",
       "      <td>0</td>\n",
       "      <td>0</td>\n",
       "      <td>0</td>\n",
       "      <td>0</td>\n",
       "      <td>0</td>\n",
       "      <td>1</td>\n",
       "      <td>0</td>\n",
       "    </tr>\n",
       "    <tr>\n",
       "      <th>4</th>\n",
       "      <td>0</td>\n",
       "      <td>0</td>\n",
       "      <td>0</td>\n",
       "      <td>15000.0</td>\n",
       "      <td>1</td>\n",
       "      <td>1</td>\n",
       "      <td>0</td>\n",
       "      <td>0</td>\n",
       "      <td>0</td>\n",
       "      <td>0</td>\n",
       "      <td>...</td>\n",
       "      <td>0</td>\n",
       "      <td>0</td>\n",
       "      <td>0</td>\n",
       "      <td>0</td>\n",
       "      <td>0</td>\n",
       "      <td>0</td>\n",
       "      <td>0</td>\n",
       "      <td>0</td>\n",
       "      <td>1</td>\n",
       "      <td>0</td>\n",
       "    </tr>\n",
       "  </tbody>\n",
       "</table>\n",
       "<p>5 rows × 75 columns</p>\n",
       "</div>"
      ],
      "text/plain": [
       "   country_code  workplace_type  contract_type  salary_mean  company_size_bin  \\\n",
       "0             0               2              0       8000.0                 3   \n",
       "1             0               2              0      12500.0                 1   \n",
       "2             0               2              0      10500.0                 1   \n",
       "3             0               2              0      10500.0                 1   \n",
       "4             0               0              0      15000.0                 1   \n",
       "\n",
       "   remote_interview_True  city_Białystok  city_Bielsko-Biała  city_Bydgoszcz  \\\n",
       "0                      1               0                   0               0   \n",
       "1                      1               1                   0               0   \n",
       "2                      1               0                   0               0   \n",
       "3                      1               0                   0               0   \n",
       "4                      1               0                   0               0   \n",
       "\n",
       "   city_Chorzów  ...  marker_icon_python  marker_icon_ruby  marker_icon_scala  \\\n",
       "0             0  ...                   0                 0                  0   \n",
       "1             0  ...                   1                 0                  0   \n",
       "2             0  ...                   0                 0                  0   \n",
       "3             0  ...                   0                 0                  0   \n",
       "4             0  ...                   0                 0                  0   \n",
       "\n",
       "   marker_icon_security  marker_icon_support  marker_icon_testing  \\\n",
       "0                     0                    0                    0   \n",
       "1                     0                    0                    0   \n",
       "2                     0                    0                    0   \n",
       "3                     0                    0                    0   \n",
       "4                     0                    0                    0   \n",
       "\n",
       "   marker_icon_ux  experience_level_junior  experience_level_mid  \\\n",
       "0               0                        0                     1   \n",
       "1               0                        0                     1   \n",
       "2               0                        0                     1   \n",
       "3               0                        0                     1   \n",
       "4               0                        0                     1   \n",
       "\n",
       "   experience_level_senior  \n",
       "0                        0  \n",
       "1                        0  \n",
       "2                        0  \n",
       "3                        0  \n",
       "4                        0  \n",
       "\n",
       "[5 rows x 75 columns]"
      ]
     },
     "execution_count": 12,
     "metadata": {},
     "output_type": "execute_result"
    }
   ],
   "source": [
    "df.head()"
   ]
  },
  {
   "cell_type": "markdown",
   "metadata": {},
   "source": [
    "# Modeling"
   ]
  },
  {
   "cell_type": "code",
   "execution_count": 13,
   "metadata": {},
   "outputs": [],
   "source": [
    "results = pd.DataFrame(columns=[\"model\", \"mae\"])"
   ]
  },
  {
   "cell_type": "code",
   "execution_count": 14,
   "metadata": {},
   "outputs": [],
   "source": [
    "X = df.drop([\"salary_mean\"], axis=1)\n",
    "y = df[\"salary_mean\"]"
   ]
  },
  {
   "cell_type": "code",
   "execution_count": 15,
   "metadata": {},
   "outputs": [
    {
     "name": "stdout",
     "output_type": "stream",
     "text": [
      "(1083, 74)\n",
      "(2527, 74)\n"
     ]
    }
   ],
   "source": [
    "X_train, X_test, y_train, y_test = train_test_split(\n",
    "    X, y, train_size=0.3, random_state=2021\n",
    ")\n",
    "print(X_train.shape)\n",
    "print(X_test.shape)"
   ]
  },
  {
   "cell_type": "code",
   "execution_count": 16,
   "metadata": {},
   "outputs": [],
   "source": [
    "# model evaluation function\n",
    "\n",
    "def model_evaluate(y_true, y_pred):\n",
    "    return mean_absolute_error(y_true, y_pred)"
   ]
  },
  {
   "cell_type": "markdown",
   "metadata": {},
   "source": [
    "## RandomForestRegressor"
   ]
  },
  {
   "cell_type": "code",
   "execution_count": 17,
   "metadata": {},
   "outputs": [],
   "source": [
    "from sklearn.ensemble import RandomForestRegressor\n",
    "from sklearn.model_selection import cross_val_score"
   ]
  },
  {
   "cell_type": "code",
   "execution_count": 18,
   "metadata": {},
   "outputs": [
    {
     "name": "stdout",
     "output_type": "stream",
     "text": [
      "Cross val score: -3060.722971062919\n",
      "MAE:  2965.222961901447\n"
     ]
    }
   ],
   "source": [
    "forest_regressor_model = RandomForestRegressor(\n",
    "    n_estimators=300, max_depth=7, random_state=2021\n",
    ").fit(X_train, y_train)\n",
    "\n",
    "cv_model = cross_val_score(\n",
    "    forest_regressor_model, X_train, y_train, cv=10, scoring=\"neg_mean_absolute_error\"\n",
    ")\n",
    "y_preds = forest_regressor_model.predict(X_test)\n",
    "cv_model_mean = np.mean(cv_model)\n",
    "\n",
    "print(\"Cross val score:\", cv_model_mean)\n",
    "print(\"MAE: \", model_evaluate(y_test, y_preds))\n",
    "\n",
    "results = results.append(\n",
    "    {\"model\": \"forest_regressor_model\", \"mae\": model_evaluate(y_test, y_preds)},\n",
    "    ignore_index=True,\n",
    ")\n",
    "save_model(\"forest_regressor_model\", forest_regressor_model)"
   ]
  },
  {
   "cell_type": "markdown",
   "metadata": {},
   "source": [
    "## GradientBoostingRegressor"
   ]
  },
  {
   "cell_type": "code",
   "execution_count": 19,
   "metadata": {},
   "outputs": [],
   "source": [
    "from sklearn.ensemble import GradientBoostingRegressor"
   ]
  },
  {
   "cell_type": "code",
   "execution_count": 20,
   "metadata": {},
   "outputs": [
    {
     "name": "stdout",
     "output_type": "stream",
     "text": [
      "Cross val score: -3070.085351266447\n",
      "MAE:  2920.8070274449437\n"
     ]
    }
   ],
   "source": [
    "gradient_boosting_model = GradientBoostingRegressor(\n",
    "    n_estimators=300, learning_rate=0.01, max_depth=6, random_state=2021\n",
    ").fit(X_train, y_train)\n",
    "\n",
    "cv_model = cross_val_score(\n",
    "    gradient_boosting_model, X_train, y_train, cv=10, scoring=\"neg_mean_absolute_error\"\n",
    ")\n",
    "y_preds = gradient_boosting_model.predict(X_test)\n",
    "cv_model_mean = np.mean(cv_model)\n",
    "\n",
    "print(\"Cross val score:\", cv_model_mean)\n",
    "print(\"MAE: \", model_evaluate(y_test, y_preds))\n",
    "\n",
    "results = results.append(\n",
    "    {\"model\": \"gradient_boosting_model\", \"mae\": model_evaluate(y_test, y_preds)},\n",
    "    ignore_index=True,\n",
    ")\n",
    "save_model(\"gradient_boosting_model\", gradient_boosting_model)"
   ]
  },
  {
   "cell_type": "markdown",
   "metadata": {},
   "source": [
    "## Xgboost"
   ]
  },
  {
   "cell_type": "code",
   "execution_count": 21,
   "metadata": {},
   "outputs": [],
   "source": [
    "import xgboost as XGB\n",
    "from sklearn.model_selection import GridSearchCV"
   ]
  },
  {
   "cell_type": "code",
   "execution_count": 22,
   "metadata": {},
   "outputs": [
    {
     "name": "stdout",
     "output_type": "stream",
     "text": [
      "Cross val score: -3023.8817888701237\n",
      "MAE:  2917.8384719444066\n"
     ]
    }
   ],
   "source": [
    "xgb_model = XGB.XGBRegressor(\n",
    "    base_score=0.5,\n",
    "    booster=\"gbtree\",\n",
    "    learning_rate=0.1,\n",
    "    max_depth=4,\n",
    "    n_estimators=180,\n",
    "    random_state=2021,\n",
    ").fit(X_train, y_train)\n",
    "\n",
    "cv_model = cross_val_score(\n",
    "    xgb_model, X_train, y_train, cv=10, scoring=\"neg_mean_absolute_error\"\n",
    ")\n",
    "\n",
    "y_preds = xgb_model.predict(X_test)\n",
    "cv_model_mean = np.mean(cv_model)\n",
    "\n",
    "print(\"Cross val score:\", cv_model_mean)\n",
    "print(\"MAE: \", model_evaluate(y_test, y_preds))\n",
    "\n",
    "results = results.append(\n",
    "    {\"model\": \"xgb_model\", \"mae\": model_evaluate(y_test, y_preds)}, ignore_index=True\n",
    ")\n",
    "xgb_model.save_model(\"../app/models/xgb_model\")"
   ]
  },
  {
   "cell_type": "markdown",
   "metadata": {},
   "source": [
    "## Catboost"
   ]
  },
  {
   "cell_type": "code",
   "execution_count": 23,
   "metadata": {},
   "outputs": [],
   "source": [
    "from catboost import CatBoostRegressor, Pool"
   ]
  },
  {
   "cell_type": "code",
   "execution_count": 24,
   "metadata": {},
   "outputs": [
    {
     "name": "stdout",
     "output_type": "stream",
     "text": [
      "Cross val score: -2992.0731003905594\n",
      "MAE:  2865.2063261771937\n"
     ]
    }
   ],
   "source": [
    "train_dataset = Pool(X_train, y_train)\n",
    "test_dataset = Pool(X_test, y_test)\n",
    "\n",
    "catboost_model = CatBoostRegressor(\n",
    "    iterations=300, learning_rate=0.1, depth=6, silent=True, random_state=2021\n",
    ").fit(train_dataset)\n",
    "\n",
    "cv_model = cross_val_score(\n",
    "    catboost_model, X_train, y_train, cv=10, scoring=\"neg_mean_absolute_error\"\n",
    ")\n",
    "\n",
    "y_preds = catboost_model.predict(X_test)\n",
    "cv_model_mean = np.mean(cv_model)\n",
    "\n",
    "print(\"Cross val score:\", cv_model_mean)\n",
    "print(\"MAE: \", model_evaluate(y_test, y_preds))\n",
    "\n",
    "results = results.append(\n",
    "    {\"model\": \"catboost_model\", \"mae\": model_evaluate(y_test, y_preds)},\n",
    "    ignore_index=True,\n",
    ")\n",
    "save_model(\"catboost_model\", catboost_model)"
   ]
  },
  {
   "cell_type": "markdown",
   "metadata": {},
   "source": [
    "## Results"
   ]
  },
  {
   "cell_type": "code",
   "execution_count": 25,
   "metadata": {},
   "outputs": [
    {
     "data": {
      "text/html": [
       "<div>\n",
       "<style scoped>\n",
       "    .dataframe tbody tr th:only-of-type {\n",
       "        vertical-align: middle;\n",
       "    }\n",
       "\n",
       "    .dataframe tbody tr th {\n",
       "        vertical-align: top;\n",
       "    }\n",
       "\n",
       "    .dataframe thead th {\n",
       "        text-align: right;\n",
       "    }\n",
       "</style>\n",
       "<table border=\"1\" class=\"dataframe\">\n",
       "  <thead>\n",
       "    <tr style=\"text-align: right;\">\n",
       "      <th></th>\n",
       "      <th>model</th>\n",
       "      <th>mae</th>\n",
       "    </tr>\n",
       "  </thead>\n",
       "  <tbody>\n",
       "    <tr>\n",
       "      <th>0</th>\n",
       "      <td>forest_regressor_model</td>\n",
       "      <td>2965.222962</td>\n",
       "    </tr>\n",
       "    <tr>\n",
       "      <th>1</th>\n",
       "      <td>gradient_boosting_model</td>\n",
       "      <td>2920.807027</td>\n",
       "    </tr>\n",
       "    <tr>\n",
       "      <th>2</th>\n",
       "      <td>xgb_model</td>\n",
       "      <td>2917.838472</td>\n",
       "    </tr>\n",
       "    <tr>\n",
       "      <th>3</th>\n",
       "      <td>catboost_model</td>\n",
       "      <td>2865.206326</td>\n",
       "    </tr>\n",
       "  </tbody>\n",
       "</table>\n",
       "</div>"
      ],
      "text/plain": [
       "                     model          mae\n",
       "0   forest_regressor_model  2965.222962\n",
       "1  gradient_boosting_model  2920.807027\n",
       "2                xgb_model  2917.838472\n",
       "3           catboost_model  2865.206326"
      ]
     },
     "execution_count": 25,
     "metadata": {},
     "output_type": "execute_result"
    }
   ],
   "source": [
    "results.head()"
   ]
  },
  {
   "cell_type": "code",
   "execution_count": 26,
   "metadata": {},
   "outputs": [],
   "source": [
    "results.to_csv(\"../data/training_results.csv\")"
   ]
  }
 ],
 "metadata": {
  "kernelspec": {
   "display_name": "Python 3",
   "language": "python",
   "name": "python3"
  },
  "language_info": {
   "codemirror_mode": {
    "name": "ipython",
    "version": 3
   },
   "file_extension": ".py",
   "mimetype": "text/x-python",
   "name": "python",
   "nbconvert_exporter": "python",
   "pygments_lexer": "ipython3",
   "version": "3.9.5"
  }
 },
 "nbformat": 4,
 "nbformat_minor": 4
}
