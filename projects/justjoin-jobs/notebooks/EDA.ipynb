{
 "cells": [
  {
   "cell_type": "markdown",
   "metadata": {},
   "source": [
    "# Imports"
   ]
  },
  {
   "cell_type": "code",
   "execution_count": 1,
   "metadata": {},
   "outputs": [],
   "source": [
    "import re\n",
    "\n",
    "import numpy as np\n",
    "import pandas as pd\n",
    "import matplotlib.pyplot as plt\n",
    "import seaborn as sns\n",
    "%matplotlib inline\n",
    "\n",
    "# Config\n",
    "sns.set_theme(style=\"darkgrid\")\n",
    "sns.set()"
   ]
  },
  {
   "cell_type": "markdown",
   "metadata": {},
   "source": [
    "# Open file"
   ]
  },
  {
   "cell_type": "code",
   "execution_count": 2,
   "metadata": {},
   "outputs": [],
   "source": [
    "df = pd.read_csv(\"../data/clear_data.csv\")"
   ]
  },
  {
   "cell_type": "code",
   "execution_count": 3,
   "metadata": {},
   "outputs": [
    {
     "data": {
      "text/html": [
       "<div>\n",
       "<style scoped>\n",
       "    .dataframe tbody tr th:only-of-type {\n",
       "        vertical-align: middle;\n",
       "    }\n",
       "\n",
       "    .dataframe tbody tr th {\n",
       "        vertical-align: top;\n",
       "    }\n",
       "\n",
       "    .dataframe thead th {\n",
       "        text-align: right;\n",
       "    }\n",
       "</style>\n",
       "<table border=\"1\" class=\"dataframe\">\n",
       "  <thead>\n",
       "    <tr style=\"text-align: right;\">\n",
       "      <th></th>\n",
       "      <th>title</th>\n",
       "      <th>city</th>\n",
       "      <th>country_code</th>\n",
       "      <th>marker_icon</th>\n",
       "      <th>workplace_type</th>\n",
       "      <th>company_name</th>\n",
       "      <th>company_size</th>\n",
       "      <th>experience_level</th>\n",
       "      <th>latitude</th>\n",
       "      <th>longitude</th>\n",
       "      <th>published_at</th>\n",
       "      <th>remote_interview</th>\n",
       "      <th>remote</th>\n",
       "      <th>contract_type</th>\n",
       "      <th>salary_min</th>\n",
       "      <th>salary_max</th>\n",
       "      <th>technology</th>\n",
       "      <th>levels</th>\n",
       "    </tr>\n",
       "  </thead>\n",
       "  <tbody>\n",
       "    <tr>\n",
       "      <th>0</th>\n",
       "      <td>.NET Developer</td>\n",
       "      <td>Warszawa</td>\n",
       "      <td>PL</td>\n",
       "      <td>net</td>\n",
       "      <td>partly_remote</td>\n",
       "      <td>C. H. Robinson</td>\n",
       "      <td>15000</td>\n",
       "      <td>mid</td>\n",
       "      <td>52.232258</td>\n",
       "      <td>20.984269</td>\n",
       "      <td>2021-02-20T16:00:06.464Z</td>\n",
       "      <td>True</td>\n",
       "      <td>False</td>\n",
       "      <td>permanent</td>\n",
       "      <td>7000</td>\n",
       "      <td>13000</td>\n",
       "      <td>['Azure', '.Net', 'C#']</td>\n",
       "      <td>[1, 4, 4]</td>\n",
       "    </tr>\n",
       "    <tr>\n",
       "      <th>1</th>\n",
       "      <td>Mid DevOps Engineer</td>\n",
       "      <td>Warszawa</td>\n",
       "      <td>PL</td>\n",
       "      <td>devops</td>\n",
       "      <td>partly_remote</td>\n",
       "      <td>STEPWISE</td>\n",
       "      <td>30</td>\n",
       "      <td>mid</td>\n",
       "      <td>52.226816</td>\n",
       "      <td>20.998821</td>\n",
       "      <td>2021-02-20T16:00:06.464Z</td>\n",
       "      <td>True</td>\n",
       "      <td>False</td>\n",
       "      <td>b2b</td>\n",
       "      <td>10000</td>\n",
       "      <td>15000</td>\n",
       "      <td>['Continuous Integration', 'Linux', 'Docker']</td>\n",
       "      <td>[4, 4, 4]</td>\n",
       "    </tr>\n",
       "    <tr>\n",
       "      <th>2</th>\n",
       "      <td>Android Senior Software Engineer</td>\n",
       "      <td>Warszawa</td>\n",
       "      <td>PL</td>\n",
       "      <td>mobile</td>\n",
       "      <td>partly_remote</td>\n",
       "      <td>ViacomCBS</td>\n",
       "      <td>10 000+</td>\n",
       "      <td>senior</td>\n",
       "      <td>52.220512</td>\n",
       "      <td>21.018066</td>\n",
       "      <td>2021-02-20T16:00:06.464Z</td>\n",
       "      <td>True</td>\n",
       "      <td>False</td>\n",
       "      <td>permanent</td>\n",
       "      <td>None</td>\n",
       "      <td>None</td>\n",
       "      <td>['RxKotlin', 'Kotlin', 'Android']</td>\n",
       "      <td>[4, 5, 5]</td>\n",
       "    </tr>\n",
       "    <tr>\n",
       "      <th>3</th>\n",
       "      <td>Junior Technical Implementation Engineer</td>\n",
       "      <td>Gdańsk</td>\n",
       "      <td>PL</td>\n",
       "      <td>support</td>\n",
       "      <td>office</td>\n",
       "      <td>Nevion Sp z o.o.</td>\n",
       "      <td>200</td>\n",
       "      <td>junior</td>\n",
       "      <td>54.339482</td>\n",
       "      <td>18.553891</td>\n",
       "      <td>2021-02-20T16:00:06.464Z</td>\n",
       "      <td>True</td>\n",
       "      <td>False</td>\n",
       "      <td>permanent</td>\n",
       "      <td>7000</td>\n",
       "      <td>10000</td>\n",
       "      <td>[]</td>\n",
       "      <td>[]</td>\n",
       "    </tr>\n",
       "    <tr>\n",
       "      <th>4</th>\n",
       "      <td>Senior Java Developer</td>\n",
       "      <td>Warszawa</td>\n",
       "      <td>PL</td>\n",
       "      <td>java</td>\n",
       "      <td>remote</td>\n",
       "      <td>ASTEK Polska</td>\n",
       "      <td>800</td>\n",
       "      <td>senior</td>\n",
       "      <td>52.229375</td>\n",
       "      <td>21.013196</td>\n",
       "      <td>2021-02-20T16:00:06.464Z</td>\n",
       "      <td>True</td>\n",
       "      <td>True</td>\n",
       "      <td>b2b</td>\n",
       "      <td>16000</td>\n",
       "      <td>20600</td>\n",
       "      <td>['Hibernate', 'Java', 'Spring']</td>\n",
       "      <td>[4, 4, 4]</td>\n",
       "    </tr>\n",
       "  </tbody>\n",
       "</table>\n",
       "</div>"
      ],
      "text/plain": [
       "                                      title      city country_code  \\\n",
       "0                            .NET Developer  Warszawa           PL   \n",
       "1                       Mid DevOps Engineer  Warszawa           PL   \n",
       "2          Android Senior Software Engineer  Warszawa           PL   \n",
       "3  Junior Technical Implementation Engineer    Gdańsk           PL   \n",
       "4                     Senior Java Developer  Warszawa           PL   \n",
       "\n",
       "  marker_icon workplace_type      company_name company_size experience_level  \\\n",
       "0         net  partly_remote    C. H. Robinson        15000              mid   \n",
       "1      devops  partly_remote          STEPWISE           30              mid   \n",
       "2      mobile  partly_remote         ViacomCBS      10 000+           senior   \n",
       "3     support         office  Nevion Sp z o.o.          200           junior   \n",
       "4        java         remote      ASTEK Polska          800           senior   \n",
       "\n",
       "    latitude  longitude              published_at  remote_interview  remote  \\\n",
       "0  52.232258  20.984269  2021-02-20T16:00:06.464Z              True   False   \n",
       "1  52.226816  20.998821  2021-02-20T16:00:06.464Z              True   False   \n",
       "2  52.220512  21.018066  2021-02-20T16:00:06.464Z              True   False   \n",
       "3  54.339482  18.553891  2021-02-20T16:00:06.464Z              True   False   \n",
       "4  52.229375  21.013196  2021-02-20T16:00:06.464Z              True    True   \n",
       "\n",
       "  contract_type salary_min salary_max  \\\n",
       "0     permanent       7000      13000   \n",
       "1           b2b      10000      15000   \n",
       "2     permanent       None       None   \n",
       "3     permanent       7000      10000   \n",
       "4           b2b      16000      20600   \n",
       "\n",
       "                                      technology     levels  \n",
       "0                        ['Azure', '.Net', 'C#']  [1, 4, 4]  \n",
       "1  ['Continuous Integration', 'Linux', 'Docker']  [4, 4, 4]  \n",
       "2              ['RxKotlin', 'Kotlin', 'Android']  [4, 5, 5]  \n",
       "3                                             []         []  \n",
       "4                ['Hibernate', 'Java', 'Spring']  [4, 4, 4]  "
      ]
     },
     "execution_count": 3,
     "metadata": {},
     "output_type": "execute_result"
    }
   ],
   "source": [
    "df.head()"
   ]
  },
  {
   "cell_type": "code",
   "execution_count": 4,
   "metadata": {},
   "outputs": [
    {
     "name": "stdout",
     "output_type": "stream",
     "text": [
      "<class 'pandas.core.frame.DataFrame'>\n",
      "RangeIndex: 4247 entries, 0 to 4246\n",
      "Data columns (total 18 columns):\n",
      " #   Column            Non-Null Count  Dtype  \n",
      "---  ------            --------------  -----  \n",
      " 0   title             4247 non-null   object \n",
      " 1   city              4247 non-null   object \n",
      " 2   country_code      4247 non-null   object \n",
      " 3   marker_icon       4247 non-null   object \n",
      " 4   workplace_type    4247 non-null   object \n",
      " 5   company_name      4247 non-null   object \n",
      " 6   company_size      4247 non-null   object \n",
      " 7   experience_level  4247 non-null   object \n",
      " 8   latitude          4247 non-null   float64\n",
      " 9   longitude         4247 non-null   float64\n",
      " 10  published_at      4247 non-null   object \n",
      " 11  remote_interview  4247 non-null   bool   \n",
      " 12  remote            4247 non-null   bool   \n",
      " 13  contract_type     4247 non-null   object \n",
      " 14  salary_min        4247 non-null   object \n",
      " 15  salary_max        4247 non-null   object \n",
      " 16  technology        4247 non-null   object \n",
      " 17  levels            4247 non-null   object \n",
      "dtypes: bool(2), float64(2), object(14)\n",
      "memory usage: 539.3+ KB\n"
     ]
    }
   ],
   "source": [
    "df.info()"
   ]
  },
  {
   "cell_type": "markdown",
   "metadata": {},
   "source": [
    "# City"
   ]
  },
  {
   "cell_type": "code",
   "execution_count": 5,
   "metadata": {},
   "outputs": [
    {
     "data": {
      "image/png": "[encoded data removed]",
      "text/plain": [
       "<Figure size 1080x360 with 1 Axes>"
      ]
     },
     "metadata": {},
     "output_type": "display_data"
    }
   ],
   "source": [
    "# Get first ten cities from column 'city'\n",
    "city = df['city'].value_counts()[:10]\n",
    "\n",
    "# Plotting a bar graph\n",
    "plt.figure(figsize=(15,5))\n",
    "sns.barplot(x=city.index, y=city.values)\n",
    "\n",
    "# Simple config\n",
    "plt.title(\"Top 10 most popular cities with job opportunities\", fontsize=14)\n",
    "plt.ylabel(\"Number of opportunities\")\n",
    "plt.xlabel(\"City\")\n",
    "plt.show()"
   ]
  },
  {
   "cell_type": "code",
   "execution_count": 6,
   "metadata": {},
   "outputs": [
    {
     "data": {
      "image/png": "[encoded data removed]",
      "text/plain": [
       "<Figure size 1080x432 with 1 Axes>"
      ]
     },
     "metadata": {},
     "output_type": "display_data"
    }
   ],
   "source": [
    "countries = df['country_code'].value_counts()[:3]\n",
    "\n",
    "\n",
    "# Plotting a bar graph\n",
    "plt.figure(figsize=(15,6))\n",
    "sns.barplot(y=countries.index, x=countries.values, orient=\"h\")\n",
    "\n",
    "# Simple config\n",
    "plt.title(\"Top 3 most popular country\", fontsize=14)\n",
    "plt.ylabel(\"Number of opportunities per country\")\n",
    "plt.xlabel(\"Country code\")\n",
    "plt.show()"
   ]
  },
  {
   "cell_type": "markdown",
   "metadata": {},
   "source": [
    "# Technologies"
   ]
  },
  {
   "cell_type": "code",
   "execution_count": 7,
   "metadata": {},
   "outputs": [
    {
     "data": {
      "image/png": "[encoded data removed]",
      "text/plain": [
       "<Figure size 720x360 with 1 Axes>"
      ]
     },
     "metadata": {},
     "output_type": "display_data"
    }
   ],
   "source": [
    "technologies = df['marker_icon'].value_counts()[:5]\n",
    "\n",
    "plt.figure(figsize=(10,5))\n",
    "plt.pie(x=technologies.values, labels=technologies.index, explode=[0.07]*5, autopct=\"%.1f%%\")\n",
    "plt.title(\"Top 5 technologist in Poland\", fontsize=14)\n",
    "plt.show()"
   ]
  },
  {
   "cell_type": "markdown",
   "metadata": {},
   "source": [
    "# Workplace vs. COVID-19"
   ]
  },
  {
   "cell_type": "code",
   "execution_count": 8,
   "metadata": {},
   "outputs": [
    {
     "data": {
      "image/png": "[encoded data removed]",
      "text/plain": [
       "<Figure size 720x360 with 1 Axes>"
      ]
     },
     "metadata": {},
     "output_type": "display_data"
    }
   ],
   "source": [
    "df_workplace = df['workplace_type'].value_counts()\n",
    "\n",
    "plt.figure(figsize=(10,5))\n",
    "plt.pie(x=df_workplace.values, labels=df_workplace.index, explode=[0.05]*3, autopct=\"%.1f%%\")\n",
    "plt.title(\"Workplace Type\", fontsize=14)\n",
    "plt.show()"
   ]
  },
  {
   "cell_type": "markdown",
   "metadata": {},
   "source": [
    "# Company size"
   ]
  },
  {
   "cell_type": "code",
   "execution_count": 9,
   "metadata": {},
   "outputs": [
    {
     "data": {
      "text/plain": [
       "0         15000\n",
       "1            30\n",
       "2       10 000+\n",
       "3           200\n",
       "4           800\n",
       "         ...   \n",
       "4242       7-10\n",
       "4243         12\n",
       "4244         12\n",
       "4245         30\n",
       "4246          6\n",
       "Name: company_size, Length: 4247, dtype: object"
      ]
     },
     "execution_count": 9,
     "metadata": {},
     "output_type": "execute_result"
    }
   ],
   "source": [
    "df['company_size']"
   ]
  },
  {
   "cell_type": "code",
   "execution_count": 10,
   "metadata": {},
   "outputs": [],
   "source": [
    "def clear_data(x):\n",
    "    x = x.split('-')[0]\n",
    "    x = re.sub('[-+<>,.]', '', x)\n",
    "    x = x.replace(' ', '')\n",
    "    if x == '':\n",
    "        x = x.replace('', '0')\n",
    "    x = int(x)\n",
    "    return x\n",
    "\n",
    "def categorize_company_size(x):\n",
    "    if x < 100:\n",
    "        return 0\n",
    "    elif x > 100 and x < 1000:\n",
    "        return 1\n",
    "    else: \n",
    "        return 2"
   ]
  },
  {
   "cell_type": "code",
   "execution_count": 11,
   "metadata": {},
   "outputs": [],
   "source": [
    "df['company_size_clear'] = df['company_size'].apply(lambda x: clear_data(x))"
   ]
  },
  {
   "cell_type": "code",
   "execution_count": 12,
   "metadata": {},
   "outputs": [],
   "source": [
    "df['company_size_clear'] = df['company_size_clear'].apply(lambda x: categorize_company_size(x))"
   ]
  },
  {
   "cell_type": "code",
   "execution_count": 13,
   "metadata": {},
   "outputs": [
    {
     "data": {
      "text/html": [
       "<div>\n",
       "<style scoped>\n",
       "    .dataframe tbody tr th:only-of-type {\n",
       "        vertical-align: middle;\n",
       "    }\n",
       "\n",
       "    .dataframe tbody tr th {\n",
       "        vertical-align: top;\n",
       "    }\n",
       "\n",
       "    .dataframe thead th {\n",
       "        text-align: right;\n",
       "    }\n",
       "</style>\n",
       "<table border=\"1\" class=\"dataframe\">\n",
       "  <thead>\n",
       "    <tr style=\"text-align: right;\">\n",
       "      <th></th>\n",
       "      <th>title</th>\n",
       "      <th>city</th>\n",
       "      <th>country_code</th>\n",
       "      <th>marker_icon</th>\n",
       "      <th>workplace_type</th>\n",
       "      <th>company_name</th>\n",
       "      <th>company_size</th>\n",
       "      <th>experience_level</th>\n",
       "      <th>latitude</th>\n",
       "      <th>longitude</th>\n",
       "      <th>published_at</th>\n",
       "      <th>remote_interview</th>\n",
       "      <th>remote</th>\n",
       "      <th>contract_type</th>\n",
       "      <th>salary_min</th>\n",
       "      <th>salary_max</th>\n",
       "      <th>technology</th>\n",
       "      <th>levels</th>\n",
       "      <th>company_size_clear</th>\n",
       "    </tr>\n",
       "  </thead>\n",
       "  <tbody>\n",
       "    <tr>\n",
       "      <th>0</th>\n",
       "      <td>.NET Developer</td>\n",
       "      <td>Warszawa</td>\n",
       "      <td>PL</td>\n",
       "      <td>net</td>\n",
       "      <td>partly_remote</td>\n",
       "      <td>C. H. Robinson</td>\n",
       "      <td>15000</td>\n",
       "      <td>mid</td>\n",
       "      <td>52.232258</td>\n",
       "      <td>20.984269</td>\n",
       "      <td>2021-02-20T16:00:06.464Z</td>\n",
       "      <td>True</td>\n",
       "      <td>False</td>\n",
       "      <td>permanent</td>\n",
       "      <td>7000</td>\n",
       "      <td>13000</td>\n",
       "      <td>['Azure', '.Net', 'C#']</td>\n",
       "      <td>[1, 4, 4]</td>\n",
       "      <td>2</td>\n",
       "    </tr>\n",
       "    <tr>\n",
       "      <th>1</th>\n",
       "      <td>Mid DevOps Engineer</td>\n",
       "      <td>Warszawa</td>\n",
       "      <td>PL</td>\n",
       "      <td>devops</td>\n",
       "      <td>partly_remote</td>\n",
       "      <td>STEPWISE</td>\n",
       "      <td>30</td>\n",
       "      <td>mid</td>\n",
       "      <td>52.226816</td>\n",
       "      <td>20.998821</td>\n",
       "      <td>2021-02-20T16:00:06.464Z</td>\n",
       "      <td>True</td>\n",
       "      <td>False</td>\n",
       "      <td>b2b</td>\n",
       "      <td>10000</td>\n",
       "      <td>15000</td>\n",
       "      <td>['Continuous Integration', 'Linux', 'Docker']</td>\n",
       "      <td>[4, 4, 4]</td>\n",
       "      <td>0</td>\n",
       "    </tr>\n",
       "    <tr>\n",
       "      <th>2</th>\n",
       "      <td>Android Senior Software Engineer</td>\n",
       "      <td>Warszawa</td>\n",
       "      <td>PL</td>\n",
       "      <td>mobile</td>\n",
       "      <td>partly_remote</td>\n",
       "      <td>ViacomCBS</td>\n",
       "      <td>10 000+</td>\n",
       "      <td>senior</td>\n",
       "      <td>52.220512</td>\n",
       "      <td>21.018066</td>\n",
       "      <td>2021-02-20T16:00:06.464Z</td>\n",
       "      <td>True</td>\n",
       "      <td>False</td>\n",
       "      <td>permanent</td>\n",
       "      <td>None</td>\n",
       "      <td>None</td>\n",
       "      <td>['RxKotlin', 'Kotlin', 'Android']</td>\n",
       "      <td>[4, 5, 5]</td>\n",
       "      <td>2</td>\n",
       "    </tr>\n",
       "    <tr>\n",
       "      <th>3</th>\n",
       "      <td>Junior Technical Implementation Engineer</td>\n",
       "      <td>Gdańsk</td>\n",
       "      <td>PL</td>\n",
       "      <td>support</td>\n",
       "      <td>office</td>\n",
       "      <td>Nevion Sp z o.o.</td>\n",
       "      <td>200</td>\n",
       "      <td>junior</td>\n",
       "      <td>54.339482</td>\n",
       "      <td>18.553891</td>\n",
       "      <td>2021-02-20T16:00:06.464Z</td>\n",
       "      <td>True</td>\n",
       "      <td>False</td>\n",
       "      <td>permanent</td>\n",
       "      <td>7000</td>\n",
       "      <td>10000</td>\n",
       "      <td>[]</td>\n",
       "      <td>[]</td>\n",
       "      <td>1</td>\n",
       "    </tr>\n",
       "    <tr>\n",
       "      <th>4</th>\n",
       "      <td>Senior Java Developer</td>\n",
       "      <td>Warszawa</td>\n",
       "      <td>PL</td>\n",
       "      <td>java</td>\n",
       "      <td>remote</td>\n",
       "      <td>ASTEK Polska</td>\n",
       "      <td>800</td>\n",
       "      <td>senior</td>\n",
       "      <td>52.229375</td>\n",
       "      <td>21.013196</td>\n",
       "      <td>2021-02-20T16:00:06.464Z</td>\n",
       "      <td>True</td>\n",
       "      <td>True</td>\n",
       "      <td>b2b</td>\n",
       "      <td>16000</td>\n",
       "      <td>20600</td>\n",
       "      <td>['Hibernate', 'Java', 'Spring']</td>\n",
       "      <td>[4, 4, 4]</td>\n",
       "      <td>1</td>\n",
       "    </tr>\n",
       "  </tbody>\n",
       "</table>\n",
       "</div>"
      ],
      "text/plain": [
       "                                      title      city country_code  \\\n",
       "0                            .NET Developer  Warszawa           PL   \n",
       "1                       Mid DevOps Engineer  Warszawa           PL   \n",
       "2          Android Senior Software Engineer  Warszawa           PL   \n",
       "3  Junior Technical Implementation Engineer    Gdańsk           PL   \n",
       "4                     Senior Java Developer  Warszawa           PL   \n",
       "\n",
       "  marker_icon workplace_type      company_name company_size experience_level  \\\n",
       "0         net  partly_remote    C. H. Robinson        15000              mid   \n",
       "1      devops  partly_remote          STEPWISE           30              mid   \n",
       "2      mobile  partly_remote         ViacomCBS      10 000+           senior   \n",
       "3     support         office  Nevion Sp z o.o.          200           junior   \n",
       "4        java         remote      ASTEK Polska          800           senior   \n",
       "\n",
       "    latitude  longitude              published_at  remote_interview  remote  \\\n",
       "0  52.232258  20.984269  2021-02-20T16:00:06.464Z              True   False   \n",
       "1  52.226816  20.998821  2021-02-20T16:00:06.464Z              True   False   \n",
       "2  52.220512  21.018066  2021-02-20T16:00:06.464Z              True   False   \n",
       "3  54.339482  18.553891  2021-02-20T16:00:06.464Z              True   False   \n",
       "4  52.229375  21.013196  2021-02-20T16:00:06.464Z              True    True   \n",
       "\n",
       "  contract_type salary_min salary_max  \\\n",
       "0     permanent       7000      13000   \n",
       "1           b2b      10000      15000   \n",
       "2     permanent       None       None   \n",
       "3     permanent       7000      10000   \n",
       "4           b2b      16000      20600   \n",
       "\n",
       "                                      technology     levels  \\\n",
       "0                        ['Azure', '.Net', 'C#']  [1, 4, 4]   \n",
       "1  ['Continuous Integration', 'Linux', 'Docker']  [4, 4, 4]   \n",
       "2              ['RxKotlin', 'Kotlin', 'Android']  [4, 5, 5]   \n",
       "3                                             []         []   \n",
       "4                ['Hibernate', 'Java', 'Spring']  [4, 4, 4]   \n",
       "\n",
       "   company_size_clear  \n",
       "0                   2  \n",
       "1                   0  \n",
       "2                   2  \n",
       "3                   1  \n",
       "4                   1  "
      ]
     },
     "execution_count": 13,
     "metadata": {},
     "output_type": "execute_result"
    }
   ],
   "source": [
    "df.head()"
   ]
  }
 ],
 "metadata": {
  "kernelspec": {
   "display_name": "Python 3",
   "language": "python",
   "name": "python3"
  },
  "language_info": {
   "codemirror_mode": {
    "name": "ipython",
    "version": 3
   },
   "file_extension": ".py",
   "mimetype": "text/x-python",
   "name": "python",
   "nbconvert_exporter": "python",
   "pygments_lexer": "ipython3",
   "version": "3.8.5"
  }
 },
 "nbformat": 4,
 "nbformat_minor": 4
}
